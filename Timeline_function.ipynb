{
 "cells": [
  {
   "cell_type": "code",
   "execution_count": 38,
   "metadata": {
    "collapsed": true
   },
   "outputs": [],
   "source": [
    "import re\n",
    "import matplotlib.pyplot as plt\n",
    "import numpy as np"
   ]
  },
  {
   "cell_type": "code",
   "execution_count": 99,
   "metadata": {
    "collapsed": true
   },
   "outputs": [],
   "source": [
    "# Takes a list of query date results as entry.\n",
    "def create_timeline(query_results):\n",
    "    # Strips the year from the strings in the query result list, adds it to a dictionary as a key and maps it to\n",
    "    # amount of times it's found in the results.\n",
    "    dates = {}\n",
    "    for result in query_results:\n",
    "        year = re.search('[0-9][0-9][0-9][0-9]', result)\n",
    "        if year[0] in dates:\n",
    "            dates[year[0]] += 1\n",
    "        else:\n",
    "            dates[year[0]] = 1\n",
    "    # Turns the dictionary in two lists, one for the keys and one for the values.       \n",
    "    years = list(dates.keys())\n",
    "    years = list(map(int, years))\n",
    "    hits = [dates[year] for year in dates]\n",
    "    \n",
    "    # Plots the two list against eachother in a timeline.\n",
    "    start, stop = min(years), max(years)\n",
    "    plt.figure(figsize = (10, 5))\n",
    "    plt.plot((start, stop), (0, 0), 'k', alpha=0.5)\n",
    "    for (i_year, i_hit) in zip(years, hits):\n",
    "        plt.scatter(i_year, 0, s=100, facecolor='w', edgecolor='k', zorder=9999)\n",
    "        plt.plot((i_year, i_year), (0, i_hit), c='r', alpha=0.7)\n",
    "        plt.text(i_year, i_hit, i_hit, horizontalalignment='right', verticalalignment='top', fontsize=14, \n",
    "                 backgroundcolor=(1., 1., 1., .3))\n",
    "    # Fixes the layout of the plot.\n",
    "    plt.title('Search result timeline:', fontdict={'fontsize': 15})\n",
    "    if stop-start < 10:\n",
    "        plt.xticks(np.arange(start, stop+1, 1.0))\n",
    "    if max(hits)-min(hits) < 5:\n",
    "        plt.yticks(np.arange(min(hits), max(hits)+1, 1.0))\n",
    "    plt.box(on=False)\n",
    "    plt.xlabel('Years of search results')\n",
    "    plt.ylabel('Amount of results')\n",
    "    return plt.show()    "
   ]
  },
  {
   "cell_type": "code",
   "execution_count": 100,
   "metadata": {},
   "outputs": [
    {
     "data": {
      "image/png": "[encoded data removed]",
      "text/plain": [
       "<Figure size 720x360 with 1 Axes>"
      ]
     },
     "metadata": {},
     "output_type": "display_data"
    }
   ],
   "source": [
    "# Example of input:\n",
    "fake_results = ['2-MAR-1937 12:22:01.82', '2-MAR-1937 12:22:01.82', '2-MAR-1937 12:22:01.82', '2-MAR-1935 12:22:01.82', \n",
    "               '2-MAR-1939 12:22:01.82', '2-MAR-1936 12:22:01.82', '2-MAR-1937 12:22:01.82', '2-MAR-1940 12:22:01.82']\n",
    "create_timeline(fake_results)"
   ]
  }
 ],
 "metadata": {
  "kernelspec": {
   "display_name": "Python 3",
   "language": "python",
   "name": "python3"
  },
  "language_info": {
   "codemirror_mode": {
    "name": "ipython",
    "version": 3
   },
   "file_extension": ".py",
   "mimetype": "text/x-python",
   "name": "python",
   "nbconvert_exporter": "python",
   "pygments_lexer": "ipython3",
   "version": "3.5.2"
  }
 },
 "nbformat": 4,
 "nbformat_minor": 2
}
