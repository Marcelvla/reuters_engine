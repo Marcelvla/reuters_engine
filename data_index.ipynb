{
 "cells": [
  {
   "cell_type": "code",
   "execution_count": 1,
   "metadata": {},
   "outputs": [],
   "source": [
    "##### Imports ######\n",
    "from bs4 import BeautifulSoup\n",
    "import xml.etree.ElementTree as ET\n",
    "import json\n",
    "import re"
   ]
  },
  {
   "cell_type": "code",
   "execution_count": 9,
   "metadata": {},
   "outputs": [],
   "source": [
    "# Removes XML tags from the data\n",
    "def clean_data(data):\n",
    "    try:\n",
    "        tags = ET.fromstring(str(data))\n",
    "        return ET.tostring(tags, method='text').decode(\"utf-8\").replace('\\'', '').replace('\\ ', '').replace('\\\"','')\n",
    "    except:\n",
    "        return ''\n",
    "\n",
    "# Finds all different places and removes the XML tags from them\n",
    "def clean_places(places):\n",
    "    placelist = []\n",
    "    for i in places:\n",
    "        tags = ET.fromstring(str(i))\n",
    "        placelist.append(ET.tostring(tags, method='text').decode(\"utf-8\"))\n",
    "        \n",
    "    return placelist\n",
    "\n",
    "# Removes title, place and the XML tags from the text\n",
    "def clean_text(text):\n",
    "    for tag in text.findAll():\n",
    "        tag.replaceWith('')\n",
    "    \n",
    "    text = text.text.replace('\\n',' ').replace('\\\"', '').replace('\\'', '').replace('\\ ','')\n",
    "    \n",
    "    return re.sub('[\\x7f]', '', text)\n",
    "\n",
    "def switch_mon(month):\n",
    "    switcher = {\n",
    "        'JAN': 1,\n",
    "        'FEB': 2,\n",
    "        'MAR': 3,\n",
    "        'APR': 4,\n",
    "        'MAY': 5,\n",
    "        'JUN': 6,\n",
    "        'JUL': 7,\n",
    "        'AUG': 8,\n",
    "        'SEP': 9,\n",
    "        'OCT': 10,\n",
    "        'NOV' :11,\n",
    "        'DEC' :12\n",
    "    }\n",
    "    return str(switcher.get(month))\n",
    "    \n",
    "def clean_year(data):\n",
    "    DD = re.search('[0-9]+', str(data)).group(0)\n",
    "    MM = re.search('[A-Z]+', str(data)).group(0)\n",
    "    MM = switch_mon(str(MM))\n",
    "    YYYY = re.search('\\d{4}', str(data)).group(0)\n",
    "    return MM+'/'+str(DD)+'/'+str(YYYY)\n",
    "\n",
    "# Creates dictionary with all documents in the Reuters database, assigns doc_ID to all documents. \n",
    "def load_data():\n",
    "    data_dict = {}\n",
    "    data_id = 0\n",
    "    \n",
    "    with open('reuters.json', 'w') as f:\n",
    "        for i in range(22):\n",
    "            if i < 10:\n",
    "                data1 = open('reuters_data/reut2-00'+ str(i) +'.sgm')\n",
    "            else:\n",
    "                data1 = open('reuters_data/reut2-0'+ str(i) +'.sgm')\n",
    "            soup = BeautifulSoup(data1,'lxml')\n",
    "            items = soup.findAll('reuters')\n",
    "\n",
    "            for doc in items:\n",
    "                ID =     {'index':{'_id':str(data_id)}}\n",
    "                data =   {'date':clean_year(doc.date),\n",
    "                          'topic':clean_data(doc.topics), \n",
    "                          'place':clean_places(doc.places.findAll('d')), \n",
    "                          'people':clean_data(doc.people), \n",
    "                          'orgs':clean_data(doc.orgs), \n",
    "                          'exchanges':clean_data(doc.exchanges), \n",
    "                          'companies':clean_data(doc.companies), \n",
    "                          'title':clean_data(doc.title), \n",
    "                          'text':clean_text(doc.findAll('text')[0]) \n",
    "                          }\n",
    "                \n",
    "                json.dump(ID, f)\n",
    "                f.write('\\n')\n",
    "                json.dump(data, f)\n",
    "                f.write('\\n')\n",
    "\n",
    "                print('Indexing document', data_id + 1, 'of 21578', end='\\r')\n",
    "                data_id += 1\n",
    "        \n",
    "    return 'done'"
   ]
  },
  {
   "cell_type": "code",
   "execution_count": 10,
   "metadata": {},
   "outputs": [
    {
     "name": "stdout",
     "output_type": "stream",
     "text": [
      "Indexing document 21578 of 21578 21578 742 of 21578 912 of 21578 1113 of 21578 of 21578 1764 of 21578 1979 of 21578 2177 of 21578 2268 of 215782432 of 21578 2595 of 21578 2765 of 21578 3148 of 21578 3658 of 21578 of 21578 4327 of 21578 4510 of 21578 4759 of 21578 4865 of 21578 5083 of 21578 5168 of 21578 5184 of 21578 5271 of 21578 5434 of 21578 5694 of 21578 5773 of 21578 5851 of 21578 5912 of 21578 5961 of 21578 6087 of 21578 6178 of 21578 6284 of 21578 6407 of 21578 6533 of 215786788 of 215786925 of 21578 7113 of 21578 7203 of 21578 7311 of 21578 7461 of 21578 7753 of 21578 7855 of 21578 8176 of 21578 8271 of 21578 8377 of 21578 8547 of 21578 8630 of 21578 8721 of 21578 8806 of 21578 8911 of 21578 9135 of 21578 9248 of 21578 9351 of 21578 9471 of 21578 9723 of 21578 9838 of 21578 10438 of 21578 10546 of 21578 10630 of 21578 10709 of 21578 10804 of 2157810896 of 21578 11183 of 21578 11378 of 21578 11739 of 21578 12770 of 21578 12917 of 21578 13182 of 21578 13583 of 21578of 21578 13916 of 21578 14211 of 21578of 21578 14582 of 21578of 21578 14915 of 21578of 21578 15363 of 21578 15505 of 21578 16133 of 21578 16265 of 21578 16408 of 21578 16511 of 21578 16618 of 21578 16728 of 21578 16823 of 21578 17150 of 21578 17296 of 21578 of 21578 17634 of 21578 17803 of 21578 17986 of 21578 18278 of 21578 of 21578of 21578 19364 of 2157819909 of 2157820575 of 21578 20894 of 21578 21152 of 21578 21299 of 21578 21574 of 21578\r"
     ]
    },
    {
     "data": {
      "text/plain": [
       "'done'"
      ]
     },
     "execution_count": 10,
     "metadata": {},
     "output_type": "execute_result"
    }
   ],
   "source": [
    "load_data()"
   ]
  },
  {
   "cell_type": "code",
   "execution_count": null,
   "metadata": {},
   "outputs": [],
   "source": []
  },
  {
   "cell_type": "code",
   "execution_count": null,
   "metadata": {},
   "outputs": [],
   "source": []
  },
  {
   "cell_type": "code",
   "execution_count": null,
   "metadata": {},
   "outputs": [],
   "source": []
  }
 ],
 "metadata": {
  "kernelspec": {
   "display_name": "Python 3",
   "language": "python",
   "name": "python3"
  },
  "language_info": {
   "codemirror_mode": {
    "name": "ipython",
    "version": 3
   },
   "file_extension": ".py",
   "mimetype": "text/x-python",
   "name": "python",
   "nbconvert_exporter": "python",
   "pygments_lexer": "ipython3",
   "version": "3.6.5"
  }
 },
 "nbformat": 4,
 "nbformat_minor": 2
}
