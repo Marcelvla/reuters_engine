{
 "cells": [
  {
   "cell_type": "code",
   "execution_count": 1,
   "metadata": {},
   "outputs": [],
   "source": [
    "##### Imports ######\n",
    "from bs4 import BeautifulSoup\n",
    "import xml.etree.ElementTree as ET\n",
    "import json\n",
    "import re"
   ]
  },
  {
   "cell_type": "code",
   "execution_count": 2,
   "metadata": {},
   "outputs": [],
   "source": [
    "# Removes XML tags from the data\n",
    "def clean_data(data):\n",
    "    try:\n",
    "        tags = ET.fromstring(str(data))\n",
    "        return ET.tostring(tags, method='text').decode(\"utf-8\").replace('\\'', '').replace('\\ ', '').replace('\\\"','')\n",
    "    except:\n",
    "        return ''\n",
    "\n",
    "# Finds all different places and removes the XML tags from them\n",
    "def clean_places(places):\n",
    "    placelist = []\n",
    "    for i in places:\n",
    "        tags = ET.fromstring(str(i))\n",
    "        placelist.append(ET.tostring(tags, method='text').decode(\"utf-8\"))\n",
    "        \n",
    "    return placelist\n",
    "\n",
    "# Removes title, place and the XML tags from the text\n",
    "def clean_text(text):\n",
    "    for tag in text.findAll():\n",
    "        tag.replaceWith('')\n",
    "    \n",
    "    text = text.text.replace('\\n',' ').replace('\\\"', '').replace('\\'', '').replace('\\ ','')\n",
    "    \n",
    "    return re.sub('[\\x7f]', '', text)\n",
    "\n",
    "def clean_year(data):\n",
    "    year = re.search('[0-9]+-[A-Z]+-[0-9]+', str(data)).group(0)\n",
    "    return str(year).replace('-', ' ')\n",
    "\n",
    "# Creates dictionary with all documents in the Reuters database, assigns doc_ID to all documents. \n",
    "def load_data():\n",
    "    data_dict = {}\n",
    "    data_id = 0\n",
    "    \n",
    "    with open('reuters.json', 'w') as f:\n",
    "        for i in range(22):\n",
    "            if i < 10:\n",
    "                data1 = open('reuters_data/reut2-00'+ str(i) +'.sgm')\n",
    "            else:\n",
    "                data1 = open('reuters_data/reut2-0'+ str(i) +'.sgm')\n",
    "            soup = BeautifulSoup(data1,'lxml')\n",
    "            items = soup.findAll('reuters')\n",
    "\n",
    "            for doc in items:\n",
    "                ID =     {'index':{'_id':str(data_id)}}\n",
    "                data =   {'date':clean_year(doc.date),\n",
    "                          'topic':clean_data(doc.topics), \n",
    "                          'place':clean_places(doc.places.findAll('d')), \n",
    "                          'people':clean_data(doc.people), \n",
    "                          'orgs':clean_data(doc.orgs), \n",
    "                          'exchanges':clean_data(doc.exchanges), \n",
    "                          'companies':clean_data(doc.companies), \n",
    "                          'title':clean_data(doc.title), \n",
    "                          'text':clean_text(doc.findAll('text')[0]) \n",
    "                          }\n",
    "                \n",
    "                json.dump(ID, f)\n",
    "                f.write('\\n')\n",
    "                json.dump(data, f)\n",
    "                f.write('\\n')\n",
    "\n",
    "                print('Indexing document', data_id + 1, 'of 21578', end='\\r')\n",
    "                data_id += 1\n",
    "        \n",
    "    return 'done'"
   ]
  },
  {
   "cell_type": "code",
   "execution_count": 3,
   "metadata": {},
   "outputs": [
    {
     "name": "stdout",
     "output_type": "stream",
     "text": [
      "Indexing document 21578 of 21578 21578 488 of 21578 825 of 21578of 21578 of 21578 of 21578 of 21578 3309 of 21578 3473 of 215783630 of 21578 3800 of 21578 of 21578 4654 of 21578of 21578 4987 of 21578 5383 of 21578 of 21578 of 21578 of 21578 of 21578 8405 of 21578 8587 of 21578 8746 of 21578 8914 of 21578 9386 of 21578 9565 of 21578 9899 of 21578 10341 of 21578of 21578of 21578 10978 of 21578 11916 of 2157812752 of 21578 12871 of 21578 13391 of 21578 of 21578 14170 of 21578 14355 of 21578 14555 of 21578 14884 of 2157815163 of 2157815302 of 21578 15391 of 21578of 21578 15701 of 21578 15871 of 21578 16192 of 21578 of 21578of 21578 16939 of 21578 of 21578of 21578 18375 of 2157818519 of 21578 18680 of 21578 18855 of 21578 of 21578 19505 of 21578 of 21578 20541 of 21578 20693 of 21578of 21578 21330 of 21578 21506 of 21578\r"
     ]
    },
    {
     "data": {
      "text/plain": [
       "'done'"
      ]
     },
     "execution_count": 3,
     "metadata": {},
     "output_type": "execute_result"
    }
   ],
   "source": [
    "load_data()"
   ]
  },
  {
   "cell_type": "code",
   "execution_count": null,
   "metadata": {},
   "outputs": [],
   "source": []
  },
  {
   "cell_type": "code",
   "execution_count": null,
   "metadata": {},
   "outputs": [],
   "source": []
  },
  {
   "cell_type": "code",
   "execution_count": null,
   "metadata": {},
   "outputs": [],
   "source": []
  }
 ],
 "metadata": {
  "kernelspec": {
   "display_name": "Python 3",
   "language": "python",
   "name": "python3"
  },
  "language_info": {
   "codemirror_mode": {
    "name": "ipython",
    "version": 3
   },
   "file_extension": ".py",
   "mimetype": "text/x-python",
   "name": "python",
   "nbconvert_exporter": "python",
   "pygments_lexer": "ipython3",
   "version": "3.6.5"
  }
 },
 "nbformat": 4,
 "nbformat_minor": 2
}
