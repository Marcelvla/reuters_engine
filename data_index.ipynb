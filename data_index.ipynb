{
 "cells": [
  {
   "cell_type": "code",
   "execution_count": 1,
   "metadata": {
    "collapsed": true
   },
   "outputs": [],
   "source": [
    "##### Imports ######\n",
    "from bs4 import BeautifulSoup\n",
    "import xml.etree.ElementTree as ET"
   ]
  },
  {
   "cell_type": "code",
   "execution_count": 2,
   "metadata": {
    "collapsed": true
   },
   "outputs": [],
   "source": [
    "# Removes XML tags from the data\n",
    "def clean_data(data):\n",
    "    try:\n",
    "        tags = ET.fromstring(str(data))\n",
    "        return ET.tostring(tags, method='text').decode(\"utf-8\")\n",
    "    except:\n",
    "        return data\n",
    "\n",
    "# Finds all different places and removes the XML tags from them\n",
    "def clean_places(places):\n",
    "    placelist = []\n",
    "    for i in places:\n",
    "        tags = ET.fromstring(str(i))\n",
    "        placelist.append(ET.tostring(tags, method='text').decode(\"utf-8\"))\n",
    "        \n",
    "    return placelist\n",
    "\n",
    "# Removes title, place and the XML tags from the text\n",
    "def clean_text(text):\n",
    "    for tag in text.findAll():\n",
    "        tag.replaceWith('')\n",
    "\n",
    "    return text.text.replace('\\n','')\n",
    "\n",
    "# Creates dictionary with all documents in the Reuters database, assigns doc_ID to all documents. \n",
    "def load_data():\n",
    "    data_dict = {}\n",
    "    data_id = 0\n",
    "    for i in range(8):\n",
    "        data1 = open('reuters_data/reut2-00'+ str(i) +'.sgm')\n",
    "        soup = BeautifulSoup(data1,'lxml')\n",
    "        items = soup.findAll('reuters')\n",
    "        \n",
    "        for doc in items:\n",
    "            data_dict[data_id] = {'date':clean_data(doc.date),\n",
    "                                  'topic':clean_data(doc.topics), \n",
    "                                  'place':clean_places(doc.places.findAll('d')), \n",
    "                                  'people':clean_data(doc.people), \n",
    "                                  'orgs':clean_data(doc.orgs), \n",
    "                                  'exchanges':clean_data(doc.exchanges), \n",
    "                                  'companies':clean_data(doc.companies), \n",
    "                                  'title':clean_data(doc.title), \n",
    "                                  'text':clean_text(doc.findAll('text')[0]) }\n",
    "            data_id += 1 \n",
    "            \n",
    "    return data_dict\n",
    "        \n",
    "data = load_data()"
   ]
  },
  {
   "cell_type": "code",
   "execution_count": 13,
   "metadata": {},
   "outputs": [
    {
     "name": "stdout",
     "output_type": "stream",
     "text": [
      "BAHIA COCOA REVIEW\n",
      "STANDARD OIL <SRD> TO FORM FINANCIAL UNIT\n",
      "TEXAS COMMERCE BANCSHARES <TCB> FILES PLAN\n",
      "TALKING POINT/BANKAMERICA <BAC> EQUITY OFFER\n",
      "NATIONAL AVERAGE PRICES FOR FARMER-OWNED RESERVE\n",
      "ARGENTINE 1986/87 GRAIN/OILSEED REGISTRATIONS\n",
      "RED LION INNS FILES PLANS OFFERING\n",
      "USX <X> DEBT DOWGRADED BY MOODY'S\n",
      "CHAMPION PRODUCTS <CH> APPROVES STOCK SPLIT\n",
      "COMPUTER TERMINAL SYSTEMS <CPML> COMPLETES SALE\n",
      "COBANCO INC <CBCO> YEAR NET\n",
      "OHIO MATTRESS <OMT> MAY HAVE LOWER 1ST QTR NET\n",
      "AM INTERNATIONAL INC <AM> 2ND QTR JAN 31\n",
      "BROWN-FORMAN INC <BFD> 4TH QTR NET\n",
      "NATIONAL INTERGROUP<NII> TO OFFER PERMIAN UNITS\n",
      "ECONOMIC SPOTLIGHT - BANKAMERICA <BAC>\n",
      "NATIONAL HEALTH ENHANCEMENT <NHES> NEW PROGRAM\n",
      "DEAN FOODS <DF> SEES STRONG 4TH QTR EARNINGS\n",
      "BONUS WHEAT FLOUR FOR NORTH YEMEN  -- USDA\n",
      "CREDIT CARD DISCLOSURE BILLS INTRODUCED\n",
      "HUGHES CAPITAL UNIT SIGNS PACT WITH BEAR STEARNS\n",
      "MAGMA LOWERS COPPER 0.75 CENT TO 66 CTS\n",
      "BROWN-FORMAN <BFDB> SETS STOCK SPLIT, UPS PAYOUT\n",
      "ESQUIRE RADIO AND ELECTRONICS INC <EE> 4TH QTR\n",
      "SHEARSON LEHMAN NAMES NEW MANAGING DIRECTOR\n",
      "BANKERS REPORT BREAKTHROUGH ON VENEZUELAN DEBT\n",
      "UNITED PRESIDENTIAL CORP <UPCO> 4TH QTR NET\n",
      "TOWER REPORT DIMINISHES REAGAN'S HOPES OF REBOUND\n"
     ]
    }
   ],
   "source": [
    "for i in range(0,28):\n",
    "    print(str(data[i][\"title\"]))"
   ]
  },
  {
   "cell_type": "code",
   "execution_count": null,
   "metadata": {
    "collapsed": true
   },
   "outputs": [],
   "source": []
  }
 ],
 "metadata": {
  "kernelspec": {
   "display_name": "Python 3",
   "language": "python",
   "name": "python3"
  },
  "language_info": {
   "codemirror_mode": {
    "name": "ipython",
    "version": 3
   },
   "file_extension": ".py",
   "mimetype": "text/x-python",
   "name": "python",
   "nbconvert_exporter": "python",
   "pygments_lexer": "ipython3",
   "version": "3.6.3"
  }
 },
 "nbformat": 4,
 "nbformat_minor": 2
}
